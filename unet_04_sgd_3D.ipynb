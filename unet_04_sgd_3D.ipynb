{
 "cells": [
  {
   "cell_type": "code",
   "execution_count": 1,
   "id": "a7a34bb8",
   "metadata": {},
   "outputs": [],
   "source": [
    "import warnings\n",
    "warnings.filterwarnings('ignore')"
   ]
  },
  {
   "cell_type": "code",
   "execution_count": 2,
   "id": "32fc549a",
   "metadata": {},
   "outputs": [],
   "source": [
    "import pandas as pd\n",
    "import re\n",
    "from pathlib import Path\n",
    "import SimpleITK as sitk\n",
    "import numpy as np\n",
    "from torch.utils.data import Dataset, DataLoader\n",
    "import albumentations as A\n",
    "from albumentations.pytorch import ToTensorV2"
   ]
  },
  {
   "cell_type": "code",
   "execution_count": null,
   "id": "b4f07729",
   "metadata": {},
   "outputs": [],
   "source": [
    "def normalize(img):\n",
    "    max_value = img.max()\n",
    "    min_value = img.min()\n",
    "    \n",
    "    return (img - min_value) / (max_value - min_value + 1e-8)\n",
    "\n",
    "def image_pad_crop(img, mask, size, margin=1):\n",
    "    if img.ndim == 3 and img.shape[2] == 1:\n",
    "        non_black_flat = img[:,:,0] > 0\n",
    "    elif img.ndim == 2:\n",
    "        non_black_flat = img > 0\n",
    "    else:\n",
    "        non_black_flat = np.sum(img, axis=-1) > 0 if img.ndim == 3 else np.sum(img, axis=0) > 0 \n",
    "        \n",
    "    coords = np.argwhere(non_black_flat)\n",
    "\n",
    "    if len(coords) == 0:\n",
    "        if img.ndim == 3: # Assuming (H, W, C)\n",
    "            h, w, _ = img.shape\n",
    "        else: # (H, W)\n",
    "            h, w = img.shape\n",
    "        center_y, center_x = h // 2, w // 2\n",
    "    else:\n",
    "        y_min, x_min = coords.min(axis=0)\n",
    "        y_max, x_max = coords.max(axis=0)\n",
    "\n",
    "        if img.ndim == 3:\n",
    "            h, w, _ = img.shape\n",
    "        else:\n",
    "            h, w = img.shape\n",
    "            \n",
    "        y_min = max(0, y_min - margin)\n",
    "        x_min = max(0, x_min - margin)\n",
    "        y_max = min(h - 1, y_max + margin)\n",
    "        x_max = min(w - 1, x_max + margin)\n",
    "        \n",
    "        center_y = (y_min + y_max) // 2\n",
    "        center_x = (x_min + x_max) // 2\n",
    "\n",
    "    half_size = size // 2\n",
    "    crop_start_y = center_y - half_size\n",
    "    crop_end_y = center_y + half_size\n",
    "    crop_start_x = center_x - half_size\n",
    "    crop_end_x = center_x + half_size\n",
    "\n",
    "    if img.ndim == 3: # (H, W, C)\n",
    "        img_result = np.zeros((size, size, img.shape[2]), dtype=img.dtype)\n",
    "    else: # (H, W)\n",
    "        img_result = np.zeros((size, size), dtype=img.dtype)\n",
    "        \n",
    "    mask_result = np.zeros((size, size), dtype=mask.dtype)\n",
    "\n",
    "    src_start_y = max(0, crop_start_y)\n",
    "    src_end_y = min(h, crop_end_y) \n",
    "    src_start_x = max(0, crop_start_x)\n",
    "    src_end_x = min(w, crop_end_x) \n",
    "    \n",
    "    dest_start_y = max(0, -crop_start_y)\n",
    "    dest_end_y = dest_start_y + (src_end_y - src_start_y)\n",
    "    dest_start_x = max(0, -crop_start_x)\n",
    "    dest_end_x = dest_start_x + (src_end_x - src_start_x)\n",
    "\n",
    "    img_result[dest_start_y:dest_end_y, dest_start_x:dest_end_x] = img[src_start_y:src_end_y, src_start_x:src_end_x]\n",
    "    mask_result[dest_start_y:dest_end_y, dest_start_x:dest_end_x] = mask[src_start_y:src_end_y, src_start_x:src_end_x]\n",
    "    \n",
    "    return img_result, mask_result\n",
    "\n",
    "class BraTSDataset(Dataset):\n",
    "    def __init__(self, data_list, transform=None, out_size=256):\n",
    "        self.data_list = data_list\n",
    "        self.transform = transform\n",
    "        self.out_size = out_size\n",
    "        \n",
    "    def __len__(self):\n",
    "        return len(self.data_list)\n",
    "    \n",
    "    def __getitem__(self, idx):\n",
    "        z_current, img_path, mask_path = self.data_list[idx]\n",
    "        \n",
    "        full_image_volume = sitk.GetArrayFromImage(sitk.ReadImage(img_path)) # (D, H, W) 형태\n",
    "        full_mask_volume = sitk.GetArrayFromImage(sitk.ReadImage(mask_path))   # (D, H, W) 형태\n",
    "\n",
    "        total_slices = full_image_volume.shape[0]\n",
    "\n",
    "        z_prev = max(0, z_current - 1)\n",
    "        z_next = min(total_slices - 1, z_current + 1)\n",
    "\n",
    "        image_prev = full_image_volume[z_prev]\n",
    "        image_current = full_image_volume[z_current]\n",
    "        image_next = full_image_volume[z_next]\n",
    "        \n",
    "        mask_data = full_mask_volume[z_current]\n",
    "\n",
    "        image_prev_norm = normalize(image_prev)\n",
    "        image_current_norm = normalize(image_current)\n",
    "        image_next_norm = normalize(image_next)\n",
    "\n",
    "        combined_image_3channel = np.stack([image_prev_norm, image_current_norm, image_next_norm], axis=-1) # (H, W, 3)\n",
    "\n",
    "        image_new, mask_new = image_pad_crop(combined_image_3channel, mask_data, self.out_size)\n",
    "        \n",
    "        make_t = self.transform(image=image_new, mask=mask_new)\n",
    "        image_tensor = make_t['image'] \n",
    "        mask_tensor = make_t['mask']\n",
    "        \n",
    "        return image_tensor.float(), mask_tensor.float().unsqueeze(0)"
   ]
  },
  {
   "cell_type": "code",
   "execution_count": null,
   "id": "02bf97d0",
   "metadata": {},
   "outputs": [],
   "source": [
    "train_transform = A.Compose([\n",
    "    A.HorizontalFlip(p=0.5),\n",
    "    A.ShiftScaleRotate(shift_limit=0.05, scale_limit=0.05, rotate_limit=15, p=0.5),\n",
    "    A.ElasticTransform(alpha=120, sigma=120 * 0.05, alpha_affine=120 * 0.03, p=0.5),\n",
    "    ToTensorV2(),\n",
    "])\n",
    "\n",
    "test_transform = A.Compose([\n",
    "    ToTensorV2(),\n",
    "])\n",
    "\n",
    "def create_dataloader(batch_size=8):\n",
    "    test_list_path = '~/test_files.csv'\n",
    "\n",
    "    df = pd.read_csv(test_list_path)\n",
    "\n",
    "    test_code_list = []\n",
    "    for fname in df['filename']:\n",
    "        test_num = re.search(r'BraTS-MEN-RT-([0-9]{4})', fname).group(1)\n",
    "        test_code_list.append(test_num)\n",
    "        \n",
    "    data_path = '/data1/kerter/BraTS/Preprocessing/train/Normalize'\n",
    "\n",
    "    base_path = Path(data_path)\n",
    "\n",
    "    img_path = base_path / 'img'\n",
    "    mask_path = base_path / 'mask'\n",
    "\n",
    "    img_list = sorted(img_path.iterdir())\n",
    "    mask_list = sorted(mask_path.iterdir())\n",
    "\n",
    "    train_data_list, test_data_list = [], []\n",
    "    test_loader_list = []\n",
    "\n",
    "    for img_path, mask_path in zip(img_list, mask_list):\n",
    "        mask = sitk.ReadImage(mask_path)\n",
    "        mask_data = sitk.GetArrayFromImage(mask)\n",
    "        \n",
    "        code = re.search(r'([0-9]{4}).nii.gz', mask_path.name).group(1)\n",
    "        \n",
    "        for z, mask_slice in enumerate(mask_data):\n",
    "            if mask_slice.sum() > 0:\n",
    "                if code in test_code_list:\n",
    "                    test_data_list.append((z, img_path, mask_path))\n",
    "                else:\n",
    "                    train_data_list.append((z, img_path, mask_path))\n",
    "                    \n",
    "        if code in test_code_list and len(test_data_list) > 0:\n",
    "            test_dataset = BraTSDataset(test_data_list, transform=test_transform)\n",
    "            test_loader = DataLoader(test_dataset, batch_size=1, shuffle=False, pin_memory=True, num_workers=8)\n",
    "            \n",
    "            test_loader_list.append(test_loader)\n",
    "            test_data_list = []\n",
    "    \n",
    "    train_dataset = BraTSDataset(train_data_list, transform=train_transform)\n",
    "    train_loader = DataLoader(train_dataset, batch_size=batch_size, shuffle=True, pin_memory=True, num_workers=8)\n",
    "    \n",
    "    return train_loader, test_loader_list"
   ]
  },
  {
   "cell_type": "code",
   "execution_count": 5,
   "id": "c6b8b3ff",
   "metadata": {},
   "outputs": [],
   "source": [
    "train_loader, test_loader_list = create_dataloader(batch_size=2)"
   ]
  },
  {
   "cell_type": "code",
   "execution_count": null,
   "id": "23e91ea3",
   "metadata": {},
   "outputs": [],
   "source": [
    "import torch\n",
    "import torch.nn as nn\n",
    "import timm\n",
    "\n",
    "class ConvBlock(nn.Module):\n",
    "    def __init__(self, in_channels, out_channels):\n",
    "        super().__init__()\n",
    "        self.block = nn.Sequential(\n",
    "            nn.Conv2d(in_channels, out_channels, kernel_size=3, padding=1, bias=False),\n",
    "            nn.BatchNorm2d(out_channels),\n",
    "            nn.ReLU(inplace=True),\n",
    "            nn.Conv2d(out_channels, out_channels, kernel_size=3, padding=1, bias=False),\n",
    "            nn.BatchNorm2d(out_channels),\n",
    "            nn.ReLU(inplace=True)\n",
    "        )\n",
    "\n",
    "    def forward(self, x):\n",
    "        return self.block(x)\n",
    "\n",
    "class DecoderBlock(nn.Module):\n",
    "    def __init__(self, in_channels_decoder, in_channels_skip, out_channels, dropout_p=0.2):\n",
    "        super().__init__()\n",
    "\n",
    "        self.upsample = nn.Upsample(scale_factor=2, mode='bilinear', align_corners=False)\n",
    "\n",
    "        self.conv_block = ConvBlock(in_channels_decoder + in_channels_skip, out_channels)\n",
    "\n",
    "        self.dropout = nn.Dropout2d(p=dropout_p)\n",
    "\n",
    "    def forward(self, x_decoder, x_skip):\n",
    "        x_decoder = self.upsample(x_decoder)\n",
    "\n",
    "        x = torch.cat([x_decoder, x_skip], dim=1) # dim=1은 채널 차원\n",
    "\n",
    "        x = self.conv_block(x)\n",
    "\n",
    "        x = self.dropout(x)\n",
    "        \n",
    "        return x\n",
    "\n",
    "class CustomModel(nn.Module):\n",
    "    def __init__(self, encoder_name='resnet50', pretrained=True, classes=1, dropout_rate=0.3):\n",
    "        super().__init__()\n",
    "        self.encoder = timm.create_model(encoder_name, pretrained=pretrained, features_only=True)\n",
    "        self.encoder_channels = self.encoder.feature_info.channels()\n",
    "        \n",
    "        self.dropout_enc = nn.Dropout2d(p=dropout_rate)\n",
    "        \n",
    "        self.decoder5 = DecoderBlock(self.encoder_channels[4], self.encoder_channels[3], 512, dropout_p=dropout_rate) # From Layer4 to Layer3 Skip\n",
    "        self.decoder4 = DecoderBlock(512, self.encoder_channels[2], 256, dropout_p=dropout_rate) # From Layer3 to Layer2 Skip\n",
    "        self.decoder3 = DecoderBlock(256, self.encoder_channels[1], 128, dropout_p=dropout_rate) # From Layer2 to Layer1 Skip\n",
    "        self.decoder2 = DecoderBlock(128, self.encoder_channels[0], 64, dropout_p=dropout_rate) # From Layer1 to Conv1_relu/stem Skip\n",
    "        \n",
    "        self.upsample_final = nn.Upsample(scale_factor=2, mode='bilinear', align_corners=False)\n",
    "        self.final_conv = nn.Conv2d(64, classes, kernel_size=1)\n",
    "\n",
    "        self.final_dropout = nn.Dropout2d(p=dropout_rate)\n",
    "\n",
    "    def forward(self, x):\n",
    "        encoder_outputs = self.encoder(x)\n",
    "\n",
    "        x = self.dropout_enc(encoder_outputs[4]) \n",
    "\n",
    "        d5 = self.decoder5(x, encoder_outputs[3])\n",
    "        d4 = self.decoder4(d5, encoder_outputs[2])\n",
    "        d3 = self.decoder3(d4, encoder_outputs[1])\n",
    "        d2 = self.decoder2(d3, encoder_outputs[0])\n",
    "        \n",
    "        x = self.upsample_final(d2)\n",
    "\n",
    "        x = self.final_dropout(x) \n",
    "        output = self.final_conv(x)\n",
    "        \n",
    "        return output"
   ]
  },
  {
   "cell_type": "code",
   "execution_count": null,
   "id": "8e352e63",
   "metadata": {},
   "outputs": [
    {
     "name": "stdout",
     "output_type": "stream",
     "text": [
      "사용 장치: cuda:1\n"
     ]
    }
   ],
   "source": [
    "# <셀 1>\n",
    "import torch\n",
    "import torch.optim as optim\n",
    "from torch.optim.lr_scheduler import CosineAnnealingWarmRestarts\n",
    "\n",
    "# 기본 설정\n",
    "DEVICE = 'cuda:1' if torch.cuda.is_available() else 'cpu'\n",
    "THRESHOLD = 0.5\n",
    "\n",
    "print(f\"사용 장치: {DEVICE}\")"
   ]
  },
  {
   "cell_type": "code",
   "execution_count": 9,
   "id": "58e3e0f4",
   "metadata": {},
   "outputs": [],
   "source": [
    "from tqdm import tqdm\n",
    "\n",
    "def train_epoch(model, loader, optimizer, scheduler, criterion, device, batch_count=1):\n",
    "    model.train()\n",
    "\n",
    "    total_epoch_loss, total_epoch_dice = 0.0, 0.0\n",
    "    num_batches = len(loader)\n",
    "    \n",
    "    tqdm_loader = tqdm(loader)\n",
    "    \n",
    "    optimizer.zero_grad()\n",
    "    \n",
    "    for i, (images, masks) in enumerate(tqdm_loader):\n",
    "        images, masks = images.to(device, non_blocking=True), masks.to(device, non_blocking=True)\n",
    "                \n",
    "        logits = model(images)\n",
    "        loss, dice = criterion(logits, masks)\n",
    "        loss.backward()\n",
    "        \n",
    "        if scheduler:\n",
    "            scheduler.step()\n",
    "        \n",
    "        if (i+1) % batch_count == 0 or (i+1) == num_batches:\n",
    "            optimizer.step()\n",
    "                \n",
    "            optimizer.zero_grad()\n",
    "\n",
    "        total_epoch_loss += loss.item()\n",
    "        total_epoch_dice += dice.item()\n",
    "\n",
    "    return total_epoch_loss / num_batches, total_epoch_dice / num_batches"
   ]
  },
  {
   "cell_type": "code",
   "execution_count": 10,
   "id": "f3b9c2b7",
   "metadata": {},
   "outputs": [],
   "source": [
    "def validate(model, loader_list, criterion, device):\n",
    "    model.eval()\n",
    "\n",
    "    total_loss, total_dice = 0.0, 0.0\n",
    "    num_batches = len(loader_list)\n",
    "    \n",
    "    with torch.no_grad():\n",
    "        for loader in tqdm(loader_list):\n",
    "            logits, masks = [], []\n",
    "            \n",
    "            for image, mask in loader:\n",
    "                image = image.to(device)\n",
    "\n",
    "                logit = model(image)\n",
    "                \n",
    "                logits.append(logit.cpu())\n",
    "                masks.append(mask)\n",
    "            \n",
    "            logits_3d = torch.cat(logits, dim=0).unsqueeze(0).to(device)\n",
    "            masks_3d = torch.cat(masks, dim=0).unsqueeze(0).to(device)\n",
    "            \n",
    "            loss, dice = criterion(logits_3d, masks_3d)\n",
    "\n",
    "            total_loss += loss.item()\n",
    "            total_dice += dice.item()\n",
    "\n",
    "    return total_loss / num_batches, total_dice / num_batches"
   ]
  },
  {
   "cell_type": "code",
   "execution_count": null,
   "id": "053d5de6",
   "metadata": {},
   "outputs": [],
   "source": [
    "import torch\n",
    "import torch.nn as nn\n",
    "import torch.nn.functional as F\n",
    "\n",
    "class DiceFocalLoss(nn.Module):\n",
    "    \"\"\"\n",
    "    Dice Loss와 Focal Loss를 결합한 손실 함수입니다.\n",
    "    - Loss 계산: Soft-Dice Loss를 사용하여 미분 가능성을 확보합니다.\n",
    "    - Score 측정: Hard-Dice Score를 사용하여 평가 지표의 직관성을 높입니다.\n",
    "    \"\"\"\n",
    "    def __init__(self, focal_alpha=0.25, focal_gamma=2.0, dice_weight=0.5, threshold=0.5):\n",
    "        super(DiceFocalLoss, self).__init__()\n",
    "        self.focal_alpha = focal_alpha\n",
    "        self.focal_gamma = focal_gamma\n",
    "        self.dice_weight = dice_weight\n",
    "        self.threshold = threshold\n",
    "\n",
    "    def forward(self, inputs, targets):\n",
    "        \"\"\"\n",
    "        Args:\n",
    "            inputs (torch.Tensor): 모델의 출력 로짓 (B, C, H, W).\n",
    "            targets (torch.Tensor): 정답 마스크 (B, C, H, W).\n",
    "        Returns:\n",
    "            tuple[torch.Tensor, torch.Tensor]: (결합된 손실값, Threshold가 적용된 Dice 점수)\n",
    "        \"\"\"\n",
    "        # --- 기본 변수 준비 ---\n",
    "        targets = targets.float()\n",
    "        # 훈련(Loss)에 사용할 부드러운 확률 값\n",
    "        probs = torch.sigmoid(inputs)\n",
    "        # 평가(Score)에 사용할 이진 마스크\n",
    "        probs_mask = (probs > self.threshold).float()\n",
    "\n",
    "        # --- Focal Loss 계산 ---\n",
    "        bce_loss = F.binary_cross_entropy_with_logits(inputs, targets, reduction='none')\n",
    "        pt = torch.exp(-bce_loss)\n",
    "        focal_loss = self.focal_alpha * (1 - pt)**self.focal_gamma * bce_loss\n",
    "        focal_loss = focal_loss.mean()\n",
    "\n",
    "        # --- Dice Loss 및 Score 계산 (종양이 있는 슬라이스에 대해서만) ---\n",
    "        has_tumor = torch.sum(targets, dim=[1, 2, 3]) > 0\n",
    "\n",
    "        if not has_tumor.any():\n",
    "            dice_loss = torch.tensor(0.0, device=inputs.device)\n",
    "            dice_score_metric = torch.tensor(1.0, device=inputs.device)\n",
    "        else:\n",
    "            # 종양이 있는 슬라이스만 필터링\n",
    "            positive_targets = targets[has_tumor]\n",
    "\n",
    "            # 1. Loss 계산용 Soft-Dice (미분 가능해야 함)\n",
    "            positive_probs = probs[has_tumor]\n",
    "            intersection_soft = torch.sum(positive_probs * positive_targets)\n",
    "            denominator_soft = torch.sum(positive_probs) + torch.sum(positive_targets)\n",
    "            dice_score_soft = (2. * intersection_soft + 1e-6) / (denominator_soft + 1e-6)\n",
    "            dice_loss = 1 - dice_score_soft\n",
    "\n",
    "            # 2. Metric 측정용 Hard-Dice (Threshold 적용, 반환될 값)\n",
    "            positive_probs_mask = probs_mask[has_tumor]\n",
    "            intersection_hard = torch.sum(positive_probs_mask * positive_targets)\n",
    "            denominator_hard = torch.sum(positive_probs_mask) + torch.sum(positive_targets)\n",
    "            dice_score_metric = (2. * intersection_hard + 1e-6) / (denominator_hard + 1e-6)\n",
    "\n",
    "        # --- 두 손실을 결합 ---\n",
    "        combined_loss = (1 - self.dice_weight) * focal_loss + self.dice_weight * dice_loss\n",
    "        \n",
    "        # 손실값과 (Threshold가 적용된) Dice 점수를 함께 반환\n",
    "        return combined_loss, dice_score_metric"
   ]
  },
  {
   "cell_type": "code",
   "execution_count": 12,
   "id": "490992bf",
   "metadata": {},
   "outputs": [],
   "source": [
    "import torch\n",
    "import torch.nn as nn\n",
    "import torch.nn.functional as F\n",
    "\n",
    "class DiceFocalLoss3D(nn.Module):\n",
    "    \"\"\"\n",
    "    3D 데이터 (B, C, D, H, W)를 지원하는 Dice + Focal Loss 입니다.\n",
    "    - Loss 계산: Soft-Dice Loss를 사용하여 미분 가능성을 확보합니다.\n",
    "    - Score 측정: Hard-Dice Score를 사용하여 평가 지표의 직관성을 높입니다.\n",
    "    \"\"\"\n",
    "    def __init__(self, focal_alpha=0.25, focal_gamma=2.0, dice_weight=0.5, threshold=0.5):\n",
    "        super(DiceFocalLoss3D, self).__init__()\n",
    "        self.focal_alpha = focal_alpha\n",
    "        self.focal_gamma = focal_gamma\n",
    "        self.dice_weight = dice_weight\n",
    "        self.threshold = threshold\n",
    "\n",
    "    def forward(self, inputs, targets):\n",
    "        \"\"\"\n",
    "        Args:\n",
    "            inputs (torch.Tensor): 모델의 출력 로짓 (B, C, D, H, W).\n",
    "            targets (torch.Tensor): 정답 마스크 (B, C, D, H, W).\n",
    "        Returns:\n",
    "            tuple[torch.Tensor, torch.Tensor]: (결합된 손실값, Threshold가 적용된 Dice 점수)\n",
    "        \"\"\"\n",
    "        # --- 기본 변수 준비 ---\n",
    "        targets = targets.float()\n",
    "        # 훈련(Loss)에 사용할 부드러운 확률 값\n",
    "        probs = torch.sigmoid(inputs)\n",
    "        # 평가(Score)에 사용할 이진 마스크\n",
    "        probs_mask = (probs > self.threshold).float()\n",
    "\n",
    "        # --- Focal Loss 계산 (전체 3D 볼륨에 대해) ---\n",
    "        bce_loss = F.binary_cross_entropy_with_logits(inputs, targets, reduction='none')\n",
    "        pt = torch.exp(-bce_loss)\n",
    "        focal_loss = self.focal_alpha * (1 - pt)**self.focal_gamma * bce_loss\n",
    "        focal_loss = focal_loss.mean()\n",
    "\n",
    "        # --- Dice Loss 및 Score 계산 (종양이 있는 3D 볼륨에 대해서만) ---\n",
    "        # 3D에 맞게 합산 차원 변경: (C, D, H, W) -> dim=[1, 2, 3, 4]\n",
    "        has_tumor = torch.sum(targets, dim=[1, 2, 3, 4]) > 0\n",
    "\n",
    "        if not has_tumor.any():\n",
    "            dice_loss = torch.tensor(0.0, device=inputs.device)\n",
    "            dice_score_metric = torch.tensor(1.0, device=inputs.device)\n",
    "        else:\n",
    "            # 종양이 있는 3D 볼륨만 필터링\n",
    "            positive_targets = targets[has_tumor]\n",
    "\n",
    "            # 1. Loss 계산용 Soft-Dice (미분 가능해야 함)\n",
    "            positive_probs = probs[has_tumor]\n",
    "            intersection_soft = torch.sum(positive_probs * positive_targets)\n",
    "            denominator_soft = torch.sum(positive_probs) + torch.sum(positive_targets)\n",
    "            dice_score_soft = (2. * intersection_soft + 1e-6) / (denominator_soft + 1e-6)\n",
    "            dice_loss = 1 - dice_score_soft\n",
    "\n",
    "            # 2. Metric 측정용 Hard-Dice (Threshold 적용, 반환될 값)\n",
    "            positive_probs_mask = probs_mask[has_tumor]\n",
    "            intersection_hard = torch.sum(positive_probs_mask * positive_targets)\n",
    "            denominator_hard = torch.sum(positive_probs_mask) + torch.sum(positive_targets)\n",
    "            dice_score_metric = (2. * intersection_hard + 1e-6) / (denominator_hard + 1e-6)\n",
    "\n",
    "        # --- 두 손실을 결합 ---\n",
    "        combined_loss = (1 - self.dice_weight) * focal_loss + self.dice_weight * dice_loss\n",
    "        \n",
    "        # 손실값과 (Threshold가 적용된) Dice 점수를 함께 반환\n",
    "        return combined_loss, dice_score_metric"
   ]
  },
  {
   "cell_type": "code",
   "execution_count": 13,
   "id": "e7a8362a",
   "metadata": {},
   "outputs": [
    {
     "name": "stdout",
     "output_type": "stream",
     "text": [
      "--- 최종 학습을 시작합니다 ---\n",
      "\n",
      "--- 최종 학습 Epoch 1/75 ---\n"
     ]
    },
    {
     "name": "stderr",
     "output_type": "stream",
     "text": [
      "100%|██████████| 6408/6408 [04:34<00:00, 23.37it/s]\n",
      "100%|██████████| 42/42 [00:38<00:00,  1.08it/s]\n"
     ]
    },
    {
     "name": "stdout",
     "output_type": "stream",
     "text": [
      "Train Loss: 0.1597, Train Dice: 0.7069\n",
      "Valid Loss: 0.2008, Valid Dice: 0.6041\n",
      "  >> 새로운 최고 성능 달성! (Dice: 0.6041). 'best_model_new2.pth'에 모델을 저장합니다.\n",
      "  >> Epoch 1의 상태를 'latest_checkpoint_new2.pth'에 저장했습니다.\n",
      "\n",
      "--- 최종 학습 Epoch 2/75 ---\n"
     ]
    },
    {
     "name": "stderr",
     "output_type": "stream",
     "text": [
      "100%|██████████| 6408/6408 [04:36<00:00, 23.16it/s]\n",
      "100%|██████████| 42/42 [00:38<00:00,  1.09it/s]\n"
     ]
    },
    {
     "name": "stdout",
     "output_type": "stream",
     "text": [
      "Train Loss: 0.1059, Train Dice: 0.7963\n",
      "Valid Loss: 0.1812, Valid Dice: 0.6434\n",
      "  >> 새로운 최고 성능 달성! (Dice: 0.6434). 'best_model_new2.pth'에 모델을 저장합니다.\n",
      "  >> Epoch 2의 상태를 'latest_checkpoint_new2.pth'에 저장했습니다.\n",
      "\n",
      "--- 최종 학습 Epoch 3/75 ---\n"
     ]
    },
    {
     "name": "stderr",
     "output_type": "stream",
     "text": [
      "100%|██████████| 6408/6408 [04:36<00:00, 23.14it/s]\n",
      "100%|██████████| 42/42 [00:39<00:00,  1.07it/s]\n"
     ]
    },
    {
     "name": "stdout",
     "output_type": "stream",
     "text": [
      "Train Loss: 0.0955, Train Dice: 0.8157\n",
      "Valid Loss: 0.1868, Valid Dice: 0.6340\n",
      "  >> Epoch 3의 상태를 'latest_checkpoint_new2.pth'에 저장했습니다.\n",
      "\n",
      "--- 최종 학습 Epoch 4/75 ---\n"
     ]
    },
    {
     "name": "stderr",
     "output_type": "stream",
     "text": [
      "100%|██████████| 6408/6408 [04:33<00:00, 23.43it/s]\n",
      "100%|██████████| 42/42 [00:37<00:00,  1.12it/s]\n"
     ]
    },
    {
     "name": "stdout",
     "output_type": "stream",
     "text": [
      "Train Loss: 0.0883, Train Dice: 0.8297\n",
      "Valid Loss: 0.1619, Valid Dice: 0.6810\n",
      "  >> 새로운 최고 성능 달성! (Dice: 0.6810). 'best_model_new2.pth'에 모델을 저장합니다.\n",
      "  >> Epoch 4의 상태를 'latest_checkpoint_new2.pth'에 저장했습니다.\n",
      "\n",
      "--- 최종 학습 Epoch 5/75 ---\n"
     ]
    },
    {
     "name": "stderr",
     "output_type": "stream",
     "text": [
      "100%|██████████| 6408/6408 [04:36<00:00, 23.17it/s]\n",
      "100%|██████████| 42/42 [00:38<00:00,  1.09it/s]\n"
     ]
    },
    {
     "name": "stdout",
     "output_type": "stream",
     "text": [
      "Train Loss: 0.0845, Train Dice: 0.8370\n",
      "Valid Loss: 0.1734, Valid Dice: 0.6588\n",
      "  >> Epoch 5의 상태를 'latest_checkpoint_new2.pth'에 저장했습니다.\n",
      "\n",
      "--- 최종 학습 Epoch 6/75 ---\n"
     ]
    },
    {
     "name": "stderr",
     "output_type": "stream",
     "text": [
      "100%|██████████| 6408/6408 [04:36<00:00, 23.17it/s]\n",
      "100%|██████████| 42/42 [00:39<00:00,  1.05it/s]\n"
     ]
    },
    {
     "name": "stdout",
     "output_type": "stream",
     "text": [
      "Train Loss: 0.0949, Train Dice: 0.8168\n",
      "Valid Loss: 0.1934, Valid Dice: 0.6218\n",
      "  >> Epoch 6의 상태를 'latest_checkpoint_new2.pth'에 저장했습니다.\n",
      "\n",
      "--- 최종 학습 Epoch 7/75 ---\n"
     ]
    },
    {
     "name": "stderr",
     "output_type": "stream",
     "text": [
      "100%|██████████| 6408/6408 [04:38<00:00, 23.02it/s]\n",
      "100%|██████████| 42/42 [00:37<00:00,  1.13it/s]\n"
     ]
    },
    {
     "name": "stdout",
     "output_type": "stream",
     "text": [
      "Train Loss: 0.0915, Train Dice: 0.8234\n",
      "Valid Loss: 0.1514, Valid Dice: 0.7030\n",
      "  >> 새로운 최고 성능 달성! (Dice: 0.7030). 'best_model_new2.pth'에 모델을 저장합니다.\n",
      "  >> Epoch 7의 상태를 'latest_checkpoint_new2.pth'에 저장했습니다.\n",
      "\n",
      "--- 최종 학습 Epoch 8/75 ---\n"
     ]
    },
    {
     "name": "stderr",
     "output_type": "stream",
     "text": [
      "100%|██████████| 6408/6408 [04:36<00:00, 23.15it/s]\n",
      "100%|██████████| 42/42 [00:39<00:00,  1.07it/s]\n"
     ]
    },
    {
     "name": "stdout",
     "output_type": "stream",
     "text": [
      "Train Loss: 0.0874, Train Dice: 0.8311\n",
      "Valid Loss: 0.1613, Valid Dice: 0.6837\n",
      "  >> Epoch 8의 상태를 'latest_checkpoint_new2.pth'에 저장했습니다.\n",
      "\n",
      "--- 최종 학습 Epoch 9/75 ---\n"
     ]
    },
    {
     "name": "stderr",
     "output_type": "stream",
     "text": [
      "100%|██████████| 6408/6408 [04:37<00:00, 23.10it/s]\n",
      "100%|██████████| 42/42 [00:39<00:00,  1.08it/s]\n"
     ]
    },
    {
     "name": "stdout",
     "output_type": "stream",
     "text": [
      "Train Loss: 0.0834, Train Dice: 0.8389\n",
      "Valid Loss: 0.1591, Valid Dice: 0.6887\n",
      "  >> Epoch 9의 상태를 'latest_checkpoint_new2.pth'에 저장했습니다.\n",
      "\n",
      "--- 최종 학습 Epoch 10/75 ---\n"
     ]
    },
    {
     "name": "stderr",
     "output_type": "stream",
     "text": [
      "100%|██████████| 6408/6408 [04:35<00:00, 23.27it/s]\n",
      "100%|██████████| 42/42 [00:39<00:00,  1.07it/s]\n"
     ]
    },
    {
     "name": "stdout",
     "output_type": "stream",
     "text": [
      "Train Loss: 0.0820, Train Dice: 0.8416\n",
      "Valid Loss: 0.1481, Valid Dice: 0.7087\n",
      "  >> 새로운 최고 성능 달성! (Dice: 0.7087). 'best_model_new2.pth'에 모델을 저장합니다.\n",
      "  >> Epoch 10의 상태를 'latest_checkpoint_new2.pth'에 저장했습니다.\n",
      "\n",
      "--- 최종 학습 Epoch 11/75 ---\n"
     ]
    },
    {
     "name": "stderr",
     "output_type": "stream",
     "text": [
      "100%|██████████| 6408/6408 [04:39<00:00, 22.96it/s]\n",
      "100%|██████████| 42/42 [00:39<00:00,  1.07it/s]\n"
     ]
    },
    {
     "name": "stdout",
     "output_type": "stream",
     "text": [
      "Train Loss: 0.0784, Train Dice: 0.8482\n",
      "Valid Loss: 0.1629, Valid Dice: 0.6790\n",
      "  >> Epoch 11의 상태를 'latest_checkpoint_new2.pth'에 저장했습니다.\n",
      "\n",
      "--- 최종 학습 Epoch 12/75 ---\n"
     ]
    },
    {
     "name": "stderr",
     "output_type": "stream",
     "text": [
      "100%|██████████| 6408/6408 [04:36<00:00, 23.21it/s]\n",
      "100%|██████████| 42/42 [00:37<00:00,  1.13it/s]\n"
     ]
    },
    {
     "name": "stdout",
     "output_type": "stream",
     "text": [
      "Train Loss: 0.0756, Train Dice: 0.8538\n",
      "Valid Loss: 0.1402, Valid Dice: 0.7242\n",
      "  >> 새로운 최고 성능 달성! (Dice: 0.7242). 'best_model_new2.pth'에 모델을 저장합니다.\n",
      "  >> Epoch 12의 상태를 'latest_checkpoint_new2.pth'에 저장했습니다.\n",
      "\n",
      "--- 최종 학습 Epoch 13/75 ---\n"
     ]
    },
    {
     "name": "stderr",
     "output_type": "stream",
     "text": [
      "100%|██████████| 6408/6408 [04:35<00:00, 23.27it/s]\n",
      "100%|██████████| 42/42 [00:38<00:00,  1.08it/s]\n"
     ]
    },
    {
     "name": "stdout",
     "output_type": "stream",
     "text": [
      "Train Loss: 0.0746, Train Dice: 0.8557\n",
      "Valid Loss: 0.1355, Valid Dice: 0.7335\n",
      "  >> 새로운 최고 성능 달성! (Dice: 0.7335). 'best_model_new2.pth'에 모델을 저장합니다.\n",
      "  >> Epoch 13의 상태를 'latest_checkpoint_new2.pth'에 저장했습니다.\n",
      "\n",
      "--- 최종 학습 Epoch 14/75 ---\n"
     ]
    },
    {
     "name": "stderr",
     "output_type": "stream",
     "text": [
      "100%|██████████| 6408/6408 [04:37<00:00, 23.06it/s]\n",
      "100%|██████████| 42/42 [00:39<00:00,  1.06it/s]\n"
     ]
    },
    {
     "name": "stdout",
     "output_type": "stream",
     "text": [
      "Train Loss: 0.0730, Train Dice: 0.8588\n",
      "Valid Loss: 0.1325, Valid Dice: 0.7395\n",
      "  >> 새로운 최고 성능 달성! (Dice: 0.7395). 'best_model_new2.pth'에 모델을 저장합니다.\n",
      "  >> Epoch 14의 상태를 'latest_checkpoint_new2.pth'에 저장했습니다.\n",
      "\n",
      "--- 최종 학습 Epoch 15/75 ---\n"
     ]
    },
    {
     "name": "stderr",
     "output_type": "stream",
     "text": [
      "100%|██████████| 6408/6408 [04:35<00:00, 23.29it/s]\n",
      "100%|██████████| 42/42 [00:39<00:00,  1.07it/s]\n"
     ]
    },
    {
     "name": "stdout",
     "output_type": "stream",
     "text": [
      "Train Loss: 0.0724, Train Dice: 0.8600\n",
      "Valid Loss: 0.1382, Valid Dice: 0.7286\n",
      "  >> Epoch 15의 상태를 'latest_checkpoint_new2.pth'에 저장했습니다.\n",
      "\n",
      "--- 최종 학습 Epoch 16/75 ---\n"
     ]
    },
    {
     "name": "stderr",
     "output_type": "stream",
     "text": [
      "100%|██████████| 6408/6408 [04:38<00:00, 22.98it/s]\n",
      "100%|██████████| 42/42 [00:39<00:00,  1.06it/s]\n"
     ]
    },
    {
     "name": "stdout",
     "output_type": "stream",
     "text": [
      "Train Loss: 0.0792, Train Dice: 0.8470\n",
      "Valid Loss: 0.1582, Valid Dice: 0.6898\n",
      "  >> Epoch 16의 상태를 'latest_checkpoint_new2.pth'에 저장했습니다.\n",
      "\n",
      "--- 최종 학습 Epoch 17/75 ---\n"
     ]
    },
    {
     "name": "stderr",
     "output_type": "stream",
     "text": [
      "100%|██████████| 6408/6408 [04:41<00:00, 22.79it/s]\n",
      "100%|██████████| 42/42 [00:36<00:00,  1.14it/s]\n"
     ]
    },
    {
     "name": "stdout",
     "output_type": "stream",
     "text": [
      "Train Loss: 0.0800, Train Dice: 0.8454\n",
      "Valid Loss: 0.1333, Valid Dice: 0.7385\n",
      "  >> Epoch 17의 상태를 'latest_checkpoint_new2.pth'에 저장했습니다.\n",
      "\n",
      "--- 최종 학습 Epoch 18/75 ---\n"
     ]
    },
    {
     "name": "stderr",
     "output_type": "stream",
     "text": [
      "100%|██████████| 6408/6408 [04:37<00:00, 23.08it/s]\n",
      "100%|██████████| 42/42 [00:39<00:00,  1.06it/s]\n"
     ]
    },
    {
     "name": "stdout",
     "output_type": "stream",
     "text": [
      "Train Loss: 0.0791, Train Dice: 0.8470\n",
      "Valid Loss: 0.1628, Valid Dice: 0.6786\n",
      "  >> Epoch 18의 상태를 'latest_checkpoint_new2.pth'에 저장했습니다.\n",
      "\n",
      "--- 최종 학습 Epoch 19/75 ---\n"
     ]
    },
    {
     "name": "stderr",
     "output_type": "stream",
     "text": [
      "100%|██████████| 6408/6408 [04:37<00:00, 23.09it/s]\n",
      "100%|██████████| 42/42 [00:39<00:00,  1.07it/s]\n"
     ]
    },
    {
     "name": "stdout",
     "output_type": "stream",
     "text": [
      "Train Loss: 0.0800, Train Dice: 0.8453\n",
      "Valid Loss: 0.1641, Valid Dice: 0.6765\n",
      "  >> Epoch 19의 상태를 'latest_checkpoint_new2.pth'에 저장했습니다.\n",
      "\n",
      "--- 최종 학습 Epoch 20/75 ---\n"
     ]
    },
    {
     "name": "stderr",
     "output_type": "stream",
     "text": [
      "100%|██████████| 6408/6408 [04:39<00:00, 22.94it/s]\n",
      "100%|██████████| 42/42 [00:50<00:00,  1.21s/it]\n"
     ]
    },
    {
     "name": "stdout",
     "output_type": "stream",
     "text": [
      "Train Loss: 0.0757, Train Dice: 0.8538\n",
      "Valid Loss: 0.1434, Valid Dice: 0.7190\n",
      "  >> Epoch 20의 상태를 'latest_checkpoint_new2.pth'에 저장했습니다.\n",
      "\n",
      "--- 최종 학습 Epoch 21/75 ---\n"
     ]
    },
    {
     "name": "stderr",
     "output_type": "stream",
     "text": [
      "100%|██████████| 6408/6408 [05:14<00:00, 20.37it/s]\n",
      "100%|██████████| 42/42 [00:54<00:00,  1.29s/it]\n"
     ]
    },
    {
     "name": "stdout",
     "output_type": "stream",
     "text": [
      "Train Loss: 0.0749, Train Dice: 0.8550\n",
      "Valid Loss: 0.1520, Valid Dice: 0.7005\n",
      "  >> Epoch 21의 상태를 'latest_checkpoint_new2.pth'에 저장했습니다.\n",
      "\n",
      "--- 최종 학습 Epoch 22/75 ---\n"
     ]
    },
    {
     "name": "stderr",
     "output_type": "stream",
     "text": [
      "100%|██████████| 6408/6408 [05:56<00:00, 17.95it/s]\n",
      "100%|██████████| 42/42 [00:53<00:00,  1.28s/it]\n"
     ]
    },
    {
     "name": "stdout",
     "output_type": "stream",
     "text": [
      "Train Loss: 0.0742, Train Dice: 0.8566\n",
      "Valid Loss: 0.1248, Valid Dice: 0.7548\n",
      "  >> 새로운 최고 성능 달성! (Dice: 0.7548). 'best_model_new2.pth'에 모델을 저장합니다.\n",
      "  >> Epoch 22의 상태를 'latest_checkpoint_new2.pth'에 저장했습니다.\n",
      "\n",
      "--- 최종 학습 Epoch 23/75 ---\n"
     ]
    },
    {
     "name": "stderr",
     "output_type": "stream",
     "text": [
      "100%|██████████| 6408/6408 [05:49<00:00, 18.34it/s]\n",
      "100%|██████████| 42/42 [00:41<00:00,  1.02it/s]\n"
     ]
    },
    {
     "name": "stdout",
     "output_type": "stream",
     "text": [
      "Train Loss: 0.0717, Train Dice: 0.8614\n",
      "Valid Loss: 0.1353, Valid Dice: 0.7347\n",
      "  >> Epoch 23의 상태를 'latest_checkpoint_new2.pth'에 저장했습니다.\n",
      "\n",
      "--- 최종 학습 Epoch 24/75 ---\n"
     ]
    },
    {
     "name": "stderr",
     "output_type": "stream",
     "text": [
      "100%|██████████| 6408/6408 [04:39<00:00, 22.95it/s]\n",
      "100%|██████████| 42/42 [00:39<00:00,  1.06it/s]\n"
     ]
    },
    {
     "name": "stdout",
     "output_type": "stream",
     "text": [
      "Train Loss: 0.0701, Train Dice: 0.8644\n",
      "Valid Loss: 0.1475, Valid Dice: 0.7099\n",
      "  >> Epoch 24의 상태를 'latest_checkpoint_new2.pth'에 저장했습니다.\n",
      "\n",
      "--- 최종 학습 Epoch 25/75 ---\n"
     ]
    },
    {
     "name": "stderr",
     "output_type": "stream",
     "text": [
      "100%|██████████| 6408/6408 [04:34<00:00, 23.33it/s]\n",
      "100%|██████████| 42/42 [00:37<00:00,  1.11it/s]\n"
     ]
    },
    {
     "name": "stdout",
     "output_type": "stream",
     "text": [
      "Train Loss: 0.0673, Train Dice: 0.8699\n",
      "Valid Loss: 0.1334, Valid Dice: 0.7389\n",
      "  >> Epoch 25의 상태를 'latest_checkpoint_new2.pth'에 저장했습니다.\n",
      "\n",
      "--- 최종 학습 Epoch 26/75 ---\n"
     ]
    },
    {
     "name": "stderr",
     "output_type": "stream",
     "text": [
      "100%|██████████| 6408/6408 [04:38<00:00, 23.04it/s]\n",
      "100%|██████████| 42/42 [00:40<00:00,  1.04it/s]\n"
     ]
    },
    {
     "name": "stdout",
     "output_type": "stream",
     "text": [
      "Train Loss: 0.0680, Train Dice: 0.8684\n",
      "Valid Loss: 0.1187, Valid Dice: 0.7681\n",
      "  >> 새로운 최고 성능 달성! (Dice: 0.7681). 'best_model_new2.pth'에 모델을 저장합니다.\n",
      "  >> Epoch 26의 상태를 'latest_checkpoint_new2.pth'에 저장했습니다.\n",
      "\n",
      "--- 최종 학습 Epoch 27/75 ---\n"
     ]
    },
    {
     "name": "stderr",
     "output_type": "stream",
     "text": [
      "100%|██████████| 6408/6408 [04:46<00:00, 22.41it/s]\n",
      "100%|██████████| 42/42 [00:40<00:00,  1.03it/s]\n"
     ]
    },
    {
     "name": "stdout",
     "output_type": "stream",
     "text": [
      "Train Loss: 0.0675, Train Dice: 0.8695\n",
      "Valid Loss: 0.1443, Valid Dice: 0.7163\n",
      "  >> Epoch 27의 상태를 'latest_checkpoint_new2.pth'에 저장했습니다.\n",
      "\n",
      "--- 최종 학습 Epoch 28/75 ---\n"
     ]
    },
    {
     "name": "stderr",
     "output_type": "stream",
     "text": [
      "100%|██████████| 6408/6408 [05:14<00:00, 20.35it/s]\n",
      "100%|██████████| 42/42 [00:54<00:00,  1.29s/it]\n"
     ]
    },
    {
     "name": "stdout",
     "output_type": "stream",
     "text": [
      "Train Loss: 0.0652, Train Dice: 0.8740\n",
      "Valid Loss: 0.1534, Valid Dice: 0.6985\n",
      "  >> Epoch 28의 상태를 'latest_checkpoint_new2.pth'에 저장했습니다.\n",
      "\n",
      "--- 최종 학습 Epoch 29/75 ---\n"
     ]
    },
    {
     "name": "stderr",
     "output_type": "stream",
     "text": [
      "100%|██████████| 6408/6408 [05:52<00:00, 18.20it/s]\n",
      "100%|██████████| 42/42 [00:50<00:00,  1.20s/it]\n"
     ]
    },
    {
     "name": "stdout",
     "output_type": "stream",
     "text": [
      "Train Loss: 0.0639, Train Dice: 0.8764\n",
      "Valid Loss: 0.1368, Valid Dice: 0.7318\n",
      "  >> Epoch 29의 상태를 'latest_checkpoint_new2.pth'에 저장했습니다.\n",
      "\n",
      "--- 최종 학습 Epoch 30/75 ---\n"
     ]
    },
    {
     "name": "stderr",
     "output_type": "stream",
     "text": [
      "100%|██████████| 6408/6408 [04:54<00:00, 21.79it/s]\n",
      "100%|██████████| 42/42 [00:33<00:00,  1.27it/s]\n"
     ]
    },
    {
     "name": "stdout",
     "output_type": "stream",
     "text": [
      "Train Loss: 0.0637, Train Dice: 0.8769\n",
      "Valid Loss: 0.1411, Valid Dice: 0.7235\n",
      "  >> Epoch 30의 상태를 'latest_checkpoint_new2.pth'에 저장했습니다.\n",
      "\n",
      "--- 최종 학습 Epoch 31/75 ---\n"
     ]
    },
    {
     "name": "stderr",
     "output_type": "stream",
     "text": [
      "100%|██████████| 6408/6408 [05:12<00:00, 20.53it/s]\n",
      "100%|██████████| 42/42 [00:48<00:00,  1.14s/it]\n"
     ]
    },
    {
     "name": "stdout",
     "output_type": "stream",
     "text": [
      "Train Loss: 0.0619, Train Dice: 0.8803\n",
      "Valid Loss: 0.1356, Valid Dice: 0.7341\n",
      "  >> Epoch 31의 상태를 'latest_checkpoint_new2.pth'에 저장했습니다.\n",
      "\n",
      "--- 최종 학습 Epoch 32/75 ---\n"
     ]
    },
    {
     "name": "stderr",
     "output_type": "stream",
     "text": [
      "100%|██████████| 6408/6408 [05:20<00:00, 20.00it/s]\n",
      "100%|██████████| 42/42 [00:47<00:00,  1.12s/it]\n"
     ]
    },
    {
     "name": "stdout",
     "output_type": "stream",
     "text": [
      "Train Loss: 0.0620, Train Dice: 0.8801\n",
      "Valid Loss: 0.1383, Valid Dice: 0.7285\n",
      "  >> Epoch 32의 상태를 'latest_checkpoint_new2.pth'에 저장했습니다.\n",
      "\n",
      "--- 최종 학습 Epoch 33/75 ---\n"
     ]
    },
    {
     "name": "stderr",
     "output_type": "stream",
     "text": [
      "100%|██████████| 6408/6408 [05:17<00:00, 20.17it/s]\n",
      "100%|██████████| 42/42 [00:47<00:00,  1.12s/it]\n"
     ]
    },
    {
     "name": "stdout",
     "output_type": "stream",
     "text": [
      "Train Loss: 0.0615, Train Dice: 0.8811\n",
      "Valid Loss: 0.1336, Valid Dice: 0.7382\n",
      "  >> Epoch 33의 상태를 'latest_checkpoint_new2.pth'에 저장했습니다.\n",
      "\n",
      "--- 최종 학습 Epoch 34/75 ---\n"
     ]
    },
    {
     "name": "stderr",
     "output_type": "stream",
     "text": [
      "100%|██████████| 6408/6408 [05:15<00:00, 20.29it/s]\n",
      "100%|██████████| 42/42 [00:46<00:00,  1.12s/it]\n"
     ]
    },
    {
     "name": "stdout",
     "output_type": "stream",
     "text": [
      "Train Loss: 0.0615, Train Dice: 0.8809\n",
      "Valid Loss: 0.1395, Valid Dice: 0.7258\n",
      "  >> Epoch 34의 상태를 'latest_checkpoint_new2.pth'에 저장했습니다.\n",
      "\n",
      "--- 최종 학습 Epoch 35/75 ---\n"
     ]
    },
    {
     "name": "stderr",
     "output_type": "stream",
     "text": [
      "100%|██████████| 6408/6408 [05:17<00:00, 20.20it/s]\n",
      "100%|██████████| 42/42 [00:47<00:00,  1.13s/it]\n"
     ]
    },
    {
     "name": "stdout",
     "output_type": "stream",
     "text": [
      "Train Loss: 0.0614, Train Dice: 0.8811\n",
      "Valid Loss: 0.1331, Valid Dice: 0.7390\n",
      "  >> Epoch 35의 상태를 'latest_checkpoint_new2.pth'에 저장했습니다.\n",
      "\n",
      "--- 최종 학습 Epoch 36/75 ---\n"
     ]
    },
    {
     "name": "stderr",
     "output_type": "stream",
     "text": [
      "100%|██████████| 6408/6408 [05:14<00:00, 20.38it/s]\n",
      "100%|██████████| 42/42 [00:47<00:00,  1.13s/it]\n"
     ]
    },
    {
     "name": "stdout",
     "output_type": "stream",
     "text": [
      "Train Loss: 0.0692, Train Dice: 0.8660\n",
      "Valid Loss: 0.1323, Valid Dice: 0.7408\n",
      "  >> Epoch 36의 상태를 'latest_checkpoint_new2.pth'에 저장했습니다.\n",
      "\n",
      "--- 최종 학습 Epoch 37/75 ---\n"
     ]
    },
    {
     "name": "stderr",
     "output_type": "stream",
     "text": [
      "100%|██████████| 6408/6408 [05:16<00:00, 20.22it/s]\n",
      "100%|██████████| 42/42 [00:47<00:00,  1.13s/it]\n"
     ]
    },
    {
     "name": "stdout",
     "output_type": "stream",
     "text": [
      "Train Loss: 0.0699, Train Dice: 0.8648\n",
      "Valid Loss: 0.1391, Valid Dice: 0.7275\n",
      "  >> Epoch 37의 상태를 'latest_checkpoint_new2.pth'에 저장했습니다.\n",
      "\n",
      "--- 최종 학습 Epoch 38/75 ---\n"
     ]
    },
    {
     "name": "stderr",
     "output_type": "stream",
     "text": [
      "100%|██████████| 6408/6408 [05:18<00:00, 20.14it/s]\n",
      "100%|██████████| 42/42 [00:47<00:00,  1.12s/it]\n"
     ]
    },
    {
     "name": "stdout",
     "output_type": "stream",
     "text": [
      "Train Loss: 0.0703, Train Dice: 0.8640\n",
      "Valid Loss: 0.1478, Valid Dice: 0.7096\n",
      "  >> Epoch 38의 상태를 'latest_checkpoint_new2.pth'에 저장했습니다.\n",
      "\n",
      "--- 최종 학습 Epoch 39/75 ---\n"
     ]
    },
    {
     "name": "stderr",
     "output_type": "stream",
     "text": [
      "100%|██████████| 6408/6408 [05:18<00:00, 20.15it/s]\n",
      "100%|██████████| 42/42 [00:47<00:00,  1.12s/it]\n"
     ]
    },
    {
     "name": "stdout",
     "output_type": "stream",
     "text": [
      "Train Loss: 0.0674, Train Dice: 0.8697\n",
      "Valid Loss: 0.1296, Valid Dice: 0.7468\n",
      "  >> Epoch 39의 상태를 'latest_checkpoint_new2.pth'에 저장했습니다.\n",
      "\n",
      "--- 최종 학습 Epoch 40/75 ---\n"
     ]
    },
    {
     "name": "stderr",
     "output_type": "stream",
     "text": [
      "100%|██████████| 6408/6408 [05:17<00:00, 20.20it/s]\n",
      "100%|██████████| 42/42 [00:47<00:00,  1.13s/it]\n"
     ]
    },
    {
     "name": "stdout",
     "output_type": "stream",
     "text": [
      "Train Loss: 0.0675, Train Dice: 0.8695\n",
      "Valid Loss: 0.1343, Valid Dice: 0.7367\n",
      "  >> Epoch 40의 상태를 'latest_checkpoint_new2.pth'에 저장했습니다.\n",
      "\n",
      "--- 최종 학습 Epoch 41/75 ---\n"
     ]
    },
    {
     "name": "stderr",
     "output_type": "stream",
     "text": [
      "100%|██████████| 6408/6408 [05:17<00:00, 20.17it/s]\n",
      "100%|██████████| 42/42 [00:47<00:00,  1.13s/it]\n"
     ]
    },
    {
     "name": "stdout",
     "output_type": "stream",
     "text": [
      "Train Loss: 0.0655, Train Dice: 0.8733\n",
      "Valid Loss: 0.1229, Valid Dice: 0.7610\n",
      "  >> Epoch 41의 상태를 'latest_checkpoint_new2.pth'에 저장했습니다.\n",
      "\n",
      "--- 최종 학습 Epoch 42/75 ---\n"
     ]
    },
    {
     "name": "stderr",
     "output_type": "stream",
     "text": [
      "100%|██████████| 6408/6408 [05:12<00:00, 20.48it/s]\n",
      "100%|██████████| 42/42 [00:47<00:00,  1.14s/it]\n"
     ]
    },
    {
     "name": "stdout",
     "output_type": "stream",
     "text": [
      "Train Loss: 0.0663, Train Dice: 0.8718\n",
      "Valid Loss: 0.1283, Valid Dice: 0.7487\n",
      "  >> Epoch 42의 상태를 'latest_checkpoint_new2.pth'에 저장했습니다.\n",
      "\n",
      "--- 최종 학습 Epoch 43/75 ---\n"
     ]
    },
    {
     "name": "stderr",
     "output_type": "stream",
     "text": [
      "100%|██████████| 6408/6408 [05:16<00:00, 20.25it/s]\n",
      "100%|██████████| 42/42 [00:48<00:00,  1.14s/it]\n"
     ]
    },
    {
     "name": "stdout",
     "output_type": "stream",
     "text": [
      "Train Loss: 0.0669, Train Dice: 0.8707\n",
      "Valid Loss: 0.1450, Valid Dice: 0.7159\n",
      "  >> Epoch 43의 상태를 'latest_checkpoint_new2.pth'에 저장했습니다.\n",
      "\n",
      "--- 최종 학습 Epoch 44/75 ---\n"
     ]
    },
    {
     "name": "stderr",
     "output_type": "stream",
     "text": [
      "100%|██████████| 6408/6408 [05:18<00:00, 20.15it/s]\n",
      "100%|██████████| 42/42 [00:47<00:00,  1.14s/it]\n"
     ]
    },
    {
     "name": "stdout",
     "output_type": "stream",
     "text": [
      "Train Loss: 0.0640, Train Dice: 0.8761\n",
      "Valid Loss: 0.1478, Valid Dice: 0.7108\n",
      "  >> Epoch 44의 상태를 'latest_checkpoint_new2.pth'에 저장했습니다.\n",
      "\n",
      "--- 최종 학습 Epoch 45/75 ---\n"
     ]
    },
    {
     "name": "stderr",
     "output_type": "stream",
     "text": [
      "100%|██████████| 6408/6408 [05:16<00:00, 20.24it/s]\n",
      "100%|██████████| 42/42 [00:47<00:00,  1.12s/it]\n"
     ]
    },
    {
     "name": "stdout",
     "output_type": "stream",
     "text": [
      "Train Loss: 0.0635, Train Dice: 0.8772\n",
      "Valid Loss: 0.1383, Valid Dice: 0.7290\n",
      "  >> Epoch 45의 상태를 'latest_checkpoint_new2.pth'에 저장했습니다.\n",
      "\n",
      "--- 최종 학습 Epoch 46/75 ---\n"
     ]
    },
    {
     "name": "stderr",
     "output_type": "stream",
     "text": [
      "100%|██████████| 6408/6408 [04:59<00:00, 21.42it/s]\n",
      "100%|██████████| 42/42 [00:40<00:00,  1.03it/s]\n"
     ]
    },
    {
     "name": "stdout",
     "output_type": "stream",
     "text": [
      "Train Loss: 0.0633, Train Dice: 0.8777\n",
      "Valid Loss: 0.1507, Valid Dice: 0.7038\n",
      "  >> Epoch 46의 상태를 'latest_checkpoint_new2.pth'에 저장했습니다.\n",
      "\n",
      "--- 최종 학습 Epoch 47/75 ---\n"
     ]
    },
    {
     "name": "stderr",
     "output_type": "stream",
     "text": [
      "100%|██████████| 6408/6408 [03:45<00:00, 28.40it/s]\n",
      "100%|██████████| 42/42 [00:32<00:00,  1.27it/s]\n"
     ]
    },
    {
     "name": "stdout",
     "output_type": "stream",
     "text": [
      "Train Loss: 0.0628, Train Dice: 0.8786\n",
      "Valid Loss: 0.1405, Valid Dice: 0.7252\n",
      "  >> Epoch 47의 상태를 'latest_checkpoint_new2.pth'에 저장했습니다.\n",
      "\n",
      "--- 최종 학습 Epoch 48/75 ---\n"
     ]
    },
    {
     "name": "stderr",
     "output_type": "stream",
     "text": [
      "100%|██████████| 6408/6408 [04:07<00:00, 25.94it/s]\n",
      "100%|██████████| 42/42 [00:50<00:00,  1.21s/it]\n"
     ]
    },
    {
     "name": "stdout",
     "output_type": "stream",
     "text": [
      "Train Loss: 0.0613, Train Dice: 0.8814\n",
      "Valid Loss: 0.1255, Valid Dice: 0.7543\n",
      "  >> Epoch 48의 상태를 'latest_checkpoint_new2.pth'에 저장했습니다.\n",
      "\n",
      "--- 최종 학습 Epoch 49/75 ---\n"
     ]
    },
    {
     "name": "stderr",
     "output_type": "stream",
     "text": [
      "100%|██████████| 6408/6408 [05:41<00:00, 18.79it/s]\n",
      "100%|██████████| 42/42 [00:51<00:00,  1.22s/it]\n"
     ]
    },
    {
     "name": "stdout",
     "output_type": "stream",
     "text": [
      "Train Loss: 0.0604, Train Dice: 0.8831\n",
      "Valid Loss: 0.1339, Valid Dice: 0.7376\n",
      "  >> Epoch 49의 상태를 'latest_checkpoint_new2.pth'에 저장했습니다.\n",
      "\n",
      "--- 최종 학습 Epoch 50/75 ---\n"
     ]
    },
    {
     "name": "stderr",
     "output_type": "stream",
     "text": [
      "100%|██████████| 6408/6408 [05:31<00:00, 19.35it/s]\n",
      "100%|██████████| 42/42 [00:41<00:00,  1.02it/s]\n"
     ]
    },
    {
     "name": "stdout",
     "output_type": "stream",
     "text": [
      "Train Loss: 0.0606, Train Dice: 0.8828\n",
      "Valid Loss: 0.1283, Valid Dice: 0.7490\n",
      "  >> Epoch 50의 상태를 'latest_checkpoint_new2.pth'에 저장했습니다.\n",
      "\n",
      "--- 최종 학습 Epoch 51/75 ---\n"
     ]
    },
    {
     "name": "stderr",
     "output_type": "stream",
     "text": [
      "100%|██████████| 6408/6408 [03:57<00:00, 26.99it/s]\n",
      "100%|██████████| 42/42 [00:33<00:00,  1.26it/s]\n"
     ]
    },
    {
     "name": "stdout",
     "output_type": "stream",
     "text": [
      "Train Loss: 0.0579, Train Dice: 0.8881\n",
      "Valid Loss: 0.1262, Valid Dice: 0.7534\n",
      "  >> Epoch 51의 상태를 'latest_checkpoint_new2.pth'에 저장했습니다.\n",
      "\n",
      "--- 최종 학습 Epoch 52/75 ---\n"
     ]
    },
    {
     "name": "stderr",
     "output_type": "stream",
     "text": [
      "100%|██████████| 6408/6408 [03:57<00:00, 26.97it/s]\n",
      "100%|██████████| 42/42 [00:32<00:00,  1.27it/s]\n"
     ]
    },
    {
     "name": "stdout",
     "output_type": "stream",
     "text": [
      "Train Loss: 0.0590, Train Dice: 0.8858\n",
      "Valid Loss: 0.1425, Valid Dice: 0.7207\n",
      "  >> Epoch 52의 상태를 'latest_checkpoint_new2.pth'에 저장했습니다.\n",
      "\n",
      "--- 최종 학습 Epoch 53/75 ---\n"
     ]
    },
    {
     "name": "stderr",
     "output_type": "stream",
     "text": [
      "100%|██████████| 6408/6408 [03:43<00:00, 28.62it/s]\n",
      "100%|██████████| 42/42 [00:33<00:00,  1.27it/s]\n"
     ]
    },
    {
     "name": "stdout",
     "output_type": "stream",
     "text": [
      "Train Loss: 0.0580, Train Dice: 0.8880\n",
      "Valid Loss: 0.1242, Valid Dice: 0.7576\n",
      "  >> Epoch 53의 상태를 'latest_checkpoint_new2.pth'에 저장했습니다.\n",
      "\n",
      "--- 최종 학습 Epoch 54/75 ---\n"
     ]
    },
    {
     "name": "stderr",
     "output_type": "stream",
     "text": [
      "100%|██████████| 6408/6408 [03:46<00:00, 28.23it/s]\n",
      "100%|██████████| 42/42 [00:33<00:00,  1.24it/s]\n"
     ]
    },
    {
     "name": "stdout",
     "output_type": "stream",
     "text": [
      "Train Loss: 0.0566, Train Dice: 0.8905\n",
      "Valid Loss: 0.1354, Valid Dice: 0.7342\n",
      "  >> Epoch 54의 상태를 'latest_checkpoint_new2.pth'에 저장했습니다.\n",
      "\n",
      "--- 최종 학습 Epoch 55/75 ---\n"
     ]
    },
    {
     "name": "stderr",
     "output_type": "stream",
     "text": [
      "100%|██████████| 6408/6408 [03:44<00:00, 28.50it/s]\n",
      "100%|██████████| 42/42 [00:32<00:00,  1.28it/s]\n"
     ]
    },
    {
     "name": "stdout",
     "output_type": "stream",
     "text": [
      "Train Loss: 0.0568, Train Dice: 0.8902\n",
      "Valid Loss: 0.1211, Valid Dice: 0.7628\n",
      "  >> Epoch 55의 상태를 'latest_checkpoint_new2.pth'에 저장했습니다.\n",
      "\n",
      "--- 최종 학습 Epoch 56/75 ---\n"
     ]
    },
    {
     "name": "stderr",
     "output_type": "stream",
     "text": [
      "100%|██████████| 6408/6408 [04:05<00:00, 26.10it/s]\n",
      "100%|██████████| 42/42 [00:33<00:00,  1.26it/s]\n"
     ]
    },
    {
     "name": "stdout",
     "output_type": "stream",
     "text": [
      "Train Loss: 0.0559, Train Dice: 0.8919\n",
      "Valid Loss: 0.1452, Valid Dice: 0.7152\n",
      "  >> Epoch 56의 상태를 'latest_checkpoint_new2.pth'에 저장했습니다.\n",
      "\n",
      "--- 최종 학습 Epoch 57/75 ---\n"
     ]
    },
    {
     "name": "stderr",
     "output_type": "stream",
     "text": [
      "100%|██████████| 6408/6408 [04:36<00:00, 23.16it/s]\n",
      "100%|██████████| 42/42 [00:53<00:00,  1.26s/it]\n"
     ]
    },
    {
     "name": "stdout",
     "output_type": "stream",
     "text": [
      "Train Loss: 0.0563, Train Dice: 0.8910\n",
      "Valid Loss: 0.1387, Valid Dice: 0.7273\n",
      "  >> Epoch 57의 상태를 'latest_checkpoint_new2.pth'에 저장했습니다.\n",
      "\n",
      "--- 최종 학습 Epoch 58/75 ---\n"
     ]
    },
    {
     "name": "stderr",
     "output_type": "stream",
     "text": [
      "100%|██████████| 6408/6408 [05:41<00:00, 18.78it/s]\n",
      "100%|██████████| 42/42 [00:54<00:00,  1.30s/it]\n"
     ]
    },
    {
     "name": "stdout",
     "output_type": "stream",
     "text": [
      "Train Loss: 0.0543, Train Dice: 0.8949\n",
      "Valid Loss: 0.1428, Valid Dice: 0.7200\n",
      "  >> Epoch 58의 상태를 'latest_checkpoint_new2.pth'에 저장했습니다.\n",
      "\n",
      "--- 최종 학습 Epoch 59/75 ---\n"
     ]
    },
    {
     "name": "stderr",
     "output_type": "stream",
     "text": [
      "100%|██████████| 6408/6408 [05:50<00:00, 18.28it/s]\n",
      "100%|██████████| 42/42 [00:51<00:00,  1.23s/it]\n"
     ]
    },
    {
     "name": "stdout",
     "output_type": "stream",
     "text": [
      "Train Loss: 0.0542, Train Dice: 0.8952\n",
      "Valid Loss: 0.1409, Valid Dice: 0.7234\n",
      "  >> Epoch 59의 상태를 'latest_checkpoint_new2.pth'에 저장했습니다.\n",
      "\n",
      "--- 최종 학습 Epoch 60/75 ---\n"
     ]
    },
    {
     "name": "stderr",
     "output_type": "stream",
     "text": [
      "100%|██████████| 6408/6408 [05:55<00:00, 18.04it/s]\n",
      "100%|██████████| 42/42 [00:53<00:00,  1.27s/it]\n"
     ]
    },
    {
     "name": "stdout",
     "output_type": "stream",
     "text": [
      "Train Loss: 0.0537, Train Dice: 0.8962\n",
      "Valid Loss: 0.1249, Valid Dice: 0.7557\n",
      "  >> Epoch 60의 상태를 'latest_checkpoint_new2.pth'에 저장했습니다.\n",
      "\n",
      "--- 최종 학습 Epoch 61/75 ---\n"
     ]
    },
    {
     "name": "stderr",
     "output_type": "stream",
     "text": [
      "100%|██████████| 6408/6408 [05:56<00:00, 17.96it/s]\n",
      "100%|██████████| 42/42 [00:53<00:00,  1.26s/it]\n"
     ]
    },
    {
     "name": "stdout",
     "output_type": "stream",
     "text": [
      "Train Loss: 0.0529, Train Dice: 0.8978\n",
      "Valid Loss: 0.1276, Valid Dice: 0.7509\n",
      "  >> Epoch 61의 상태를 'latest_checkpoint_new2.pth'에 저장했습니다.\n",
      "\n",
      "--- 최종 학습 Epoch 62/75 ---\n"
     ]
    },
    {
     "name": "stderr",
     "output_type": "stream",
     "text": [
      "100%|██████████| 6408/6408 [05:52<00:00, 18.16it/s]\n",
      "100%|██████████| 42/42 [00:53<00:00,  1.27s/it]\n"
     ]
    },
    {
     "name": "stdout",
     "output_type": "stream",
     "text": [
      "Train Loss: 0.0524, Train Dice: 0.8988\n",
      "Valid Loss: 0.1247, Valid Dice: 0.7561\n",
      "  >> Epoch 62의 상태를 'latest_checkpoint_new2.pth'에 저장했습니다.\n",
      "\n",
      "--- 최종 학습 Epoch 63/75 ---\n"
     ]
    },
    {
     "name": "stderr",
     "output_type": "stream",
     "text": [
      "100%|██████████| 6408/6408 [05:55<00:00, 18.05it/s]\n",
      "100%|██████████| 42/42 [00:51<00:00,  1.22s/it]\n"
     ]
    },
    {
     "name": "stdout",
     "output_type": "stream",
     "text": [
      "Train Loss: 0.0522, Train Dice: 0.8990\n",
      "Valid Loss: 0.1270, Valid Dice: 0.7517\n",
      "  >> Epoch 63의 상태를 'latest_checkpoint_new2.pth'에 저장했습니다.\n",
      "\n",
      "--- 최종 학습 Epoch 64/75 ---\n"
     ]
    },
    {
     "name": "stderr",
     "output_type": "stream",
     "text": [
      "100%|██████████| 6408/6408 [05:51<00:00, 18.22it/s]\n",
      "100%|██████████| 42/42 [00:52<00:00,  1.24s/it]\n"
     ]
    },
    {
     "name": "stdout",
     "output_type": "stream",
     "text": [
      "Train Loss: 0.0508, Train Dice: 0.9018\n",
      "Valid Loss: 0.1371, Valid Dice: 0.7313\n",
      "  >> Epoch 64의 상태를 'latest_checkpoint_new2.pth'에 저장했습니다.\n",
      "\n",
      "--- 최종 학습 Epoch 65/75 ---\n"
     ]
    },
    {
     "name": "stderr",
     "output_type": "stream",
     "text": [
      "100%|██████████| 6408/6408 [05:57<00:00, 17.93it/s]\n",
      "100%|██████████| 42/42 [00:53<00:00,  1.27s/it]\n"
     ]
    },
    {
     "name": "stdout",
     "output_type": "stream",
     "text": [
      "Train Loss: 0.0516, Train Dice: 0.9002\n",
      "Valid Loss: 0.1382, Valid Dice: 0.7290\n",
      "  >> Epoch 65의 상태를 'latest_checkpoint_new2.pth'에 저장했습니다.\n",
      "\n",
      "--- 최종 학습 Epoch 66/75 ---\n"
     ]
    },
    {
     "name": "stderr",
     "output_type": "stream",
     "text": [
      "100%|██████████| 6408/6408 [05:59<00:00, 17.80it/s]\n",
      "100%|██████████| 42/42 [00:52<00:00,  1.25s/it]\n"
     ]
    },
    {
     "name": "stdout",
     "output_type": "stream",
     "text": [
      "Train Loss: 0.0515, Train Dice: 0.9004\n",
      "Valid Loss: 0.1312, Valid Dice: 0.7428\n",
      "  >> Epoch 66의 상태를 'latest_checkpoint_new2.pth'에 저장했습니다.\n",
      "\n",
      "--- 최종 학습 Epoch 67/75 ---\n"
     ]
    },
    {
     "name": "stderr",
     "output_type": "stream",
     "text": [
      "100%|██████████| 6408/6408 [05:51<00:00, 18.26it/s]\n",
      "100%|██████████| 42/42 [00:51<00:00,  1.23s/it]\n"
     ]
    },
    {
     "name": "stdout",
     "output_type": "stream",
     "text": [
      "Train Loss: 0.0514, Train Dice: 0.9005\n",
      "Valid Loss: 0.1276, Valid Dice: 0.7500\n",
      "  >> Epoch 67의 상태를 'latest_checkpoint_new2.pth'에 저장했습니다.\n",
      "\n",
      "--- 최종 학습 Epoch 68/75 ---\n"
     ]
    },
    {
     "name": "stderr",
     "output_type": "stream",
     "text": [
      "100%|██████████| 6408/6408 [05:50<00:00, 18.29it/s]\n",
      "100%|██████████| 42/42 [00:52<00:00,  1.26s/it]\n"
     ]
    },
    {
     "name": "stdout",
     "output_type": "stream",
     "text": [
      "Train Loss: 0.0505, Train Dice: 0.9024\n",
      "Valid Loss: 0.1301, Valid Dice: 0.7453\n",
      "  >> Epoch 68의 상태를 'latest_checkpoint_new2.pth'에 저장했습니다.\n",
      "\n",
      "--- 최종 학습 Epoch 69/75 ---\n"
     ]
    },
    {
     "name": "stderr",
     "output_type": "stream",
     "text": [
      "100%|██████████| 6408/6408 [05:50<00:00, 18.27it/s]\n",
      "100%|██████████| 42/42 [00:52<00:00,  1.26s/it]\n"
     ]
    },
    {
     "name": "stdout",
     "output_type": "stream",
     "text": [
      "Train Loss: 0.0509, Train Dice: 0.9015\n",
      "Valid Loss: 0.1322, Valid Dice: 0.7417\n",
      "  >> Epoch 69의 상태를 'latest_checkpoint_new2.pth'에 저장했습니다.\n",
      "\n",
      "--- 최종 학습 Epoch 70/75 ---\n"
     ]
    },
    {
     "name": "stderr",
     "output_type": "stream",
     "text": [
      "100%|██████████| 6408/6408 [05:56<00:00, 17.99it/s]\n",
      "100%|██████████| 42/42 [00:52<00:00,  1.26s/it]\n"
     ]
    },
    {
     "name": "stdout",
     "output_type": "stream",
     "text": [
      "Train Loss: 0.0500, Train Dice: 0.9033\n",
      "Valid Loss: 0.1297, Valid Dice: 0.7456\n",
      "  >> Epoch 70의 상태를 'latest_checkpoint_new2.pth'에 저장했습니다.\n",
      "\n",
      "--- 최종 학습 Epoch 71/75 ---\n"
     ]
    },
    {
     "name": "stderr",
     "output_type": "stream",
     "text": [
      "100%|██████████| 6408/6408 [05:51<00:00, 18.21it/s]\n",
      "100%|██████████| 42/42 [00:53<00:00,  1.28s/it]\n"
     ]
    },
    {
     "name": "stdout",
     "output_type": "stream",
     "text": [
      "Train Loss: 0.0496, Train Dice: 0.9042\n",
      "Valid Loss: 0.1337, Valid Dice: 0.7382\n",
      "  >> Epoch 71의 상태를 'latest_checkpoint_new2.pth'에 저장했습니다.\n",
      "\n",
      "--- 최종 학습 Epoch 72/75 ---\n"
     ]
    },
    {
     "name": "stderr",
     "output_type": "stream",
     "text": [
      "100%|██████████| 6408/6408 [05:49<00:00, 18.36it/s]\n",
      "100%|██████████| 42/42 [00:54<00:00,  1.30s/it]\n"
     ]
    },
    {
     "name": "stdout",
     "output_type": "stream",
     "text": [
      "Train Loss: 0.0498, Train Dice: 0.9036\n",
      "Valid Loss: 0.1320, Valid Dice: 0.7415\n",
      "  >> Epoch 72의 상태를 'latest_checkpoint_new2.pth'에 저장했습니다.\n",
      "\n",
      "--- 최종 학습 Epoch 73/75 ---\n"
     ]
    },
    {
     "name": "stderr",
     "output_type": "stream",
     "text": [
      "100%|██████████| 6408/6408 [05:55<00:00, 18.04it/s]\n",
      "100%|██████████| 42/42 [00:52<00:00,  1.25s/it]\n"
     ]
    },
    {
     "name": "stdout",
     "output_type": "stream",
     "text": [
      "Train Loss: 0.0500, Train Dice: 0.9032\n",
      "Valid Loss: 0.1324, Valid Dice: 0.7410\n",
      "  >> Epoch 73의 상태를 'latest_checkpoint_new2.pth'에 저장했습니다.\n",
      "\n",
      "--- 최종 학습 Epoch 74/75 ---\n"
     ]
    },
    {
     "name": "stderr",
     "output_type": "stream",
     "text": [
      "100%|██████████| 6408/6408 [05:55<00:00, 18.05it/s]\n",
      "100%|██████████| 42/42 [00:54<00:00,  1.29s/it]\n"
     ]
    },
    {
     "name": "stdout",
     "output_type": "stream",
     "text": [
      "Train Loss: 0.0507, Train Dice: 0.9019\n",
      "Valid Loss: 0.1288, Valid Dice: 0.7478\n",
      "  >> Epoch 74의 상태를 'latest_checkpoint_new2.pth'에 저장했습니다.\n",
      "\n",
      "--- 최종 학습 Epoch 75/75 ---\n"
     ]
    },
    {
     "name": "stderr",
     "output_type": "stream",
     "text": [
      "100%|██████████| 6408/6408 [05:53<00:00, 18.11it/s]\n",
      "100%|██████████| 42/42 [00:53<00:00,  1.27s/it]\n"
     ]
    },
    {
     "name": "stdout",
     "output_type": "stream",
     "text": [
      "Train Loss: 0.0499, Train Dice: 0.9035\n",
      "Valid Loss: 0.1312, Valid Dice: 0.7431\n",
      "  >> Epoch 75의 상태를 'latest_checkpoint_new2.pth'에 저장했습니다.\n",
      "\n",
      "--- 최종 학습 완료 ---\n",
      "최고 검증 Dice: 0.7681\n"
     ]
    },
    {
     "data": {
      "image/png": "[encoded data removed]",
      "text/plain": [
       "<Figure size 1200x500 with 2 Axes>"
      ]
     },
     "metadata": {},
     "output_type": "display_data"
    }
   ],
   "source": [
    "import torch\n",
    "import torch.optim as optim\n",
    "from torch.optim.lr_scheduler import CosineAnnealingWarmRestarts\n",
    "import os\n",
    "import matplotlib.pyplot as plt\n",
    "\n",
    "# 최적 하이퍼파라미터\n",
    "best_lr = 0.0085\n",
    "best_wd = 4e-05\n",
    "best_do = 0.30\n",
    "\n",
    "print(\"--- 최종 학습을 시작합니다 ---\")\n",
    "\n",
    "# --- 최종 학습 설정 ---\n",
    "FINAL_EPOCHS = 75\n",
    "T_0 = 5\n",
    "\n",
    "# --- 체크포인트 파일 경로 설정 ---\n",
    "CHECKPOINT_PATH = 'latest_checkpoint_new2.pth'\n",
    "\n",
    "# 모델, 옵티마이저, 스케줄러 초기화\n",
    "final_model = CustomModel(dropout_rate=best_do).to(DEVICE)\n",
    "optimizer = optim.SGD(final_model.parameters(), lr=best_lr, momentum=0.9, weight_decay=best_wd)\n",
    "scheduler = CosineAnnealingWarmRestarts(optimizer, T_0=T_0 * len(train_loader), T_mult=2)\n",
    "\n",
    "criterion = DiceFocalLoss()\n",
    "criterion_val = DiceFocalLoss3D()\n",
    "\n",
    "# --- 이어하기를 위한 변수 초기화 ---\n",
    "start_epoch = 1\n",
    "best_dice = 0.0\n",
    "history = {\n",
    "    'train_loss': [],\n",
    "    'train_dice': [],\n",
    "    'val_loss': [],\n",
    "    'val_dice': []\n",
    "}\n",
    "\n",
    "# --- 체크포인트 파일이 존재하면 불러오기 ---\n",
    "if os.path.exists(CHECKPOINT_PATH):\n",
    "    print(f\"'{CHECKPOINT_PATH}'에서 체크포인트를 불러옵니다.\")\n",
    "    checkpoint = torch.load(CHECKPOINT_PATH)\n",
    "    \n",
    "    final_model.load_state_dict(checkpoint['model_state_dict'])\n",
    "    optimizer.load_state_dict(checkpoint['optimizer_state_dict'])\n",
    "    scheduler.load_state_dict(checkpoint['scheduler_state_dict'])\n",
    "    start_epoch = checkpoint['epoch'] + 1\n",
    "    best_dice = checkpoint['best_dice']\n",
    "    history = checkpoint['history']\n",
    "    \n",
    "    print(f\"Epoch {start_epoch}부터 학습을 재개합니다.\")\n",
    "    print(f\"이전 최고 Dice 점수: {best_dice:.4f}\")\n",
    "\n",
    "# 학습 루프\n",
    "for epoch in range(start_epoch, FINAL_EPOCHS + 1):\n",
    "    print(f\"\\n--- 최종 학습 Epoch {epoch}/{FINAL_EPOCHS} ---\")\n",
    "    \n",
    "    train_loss, train_dice = train_epoch(final_model, train_loader, optimizer, scheduler, criterion, DEVICE, batch_count=8)\n",
    "    val_loss, val_dice = validate(final_model, test_loader_list, criterion_val, DEVICE)\n",
    "\n",
    "    history['train_loss'].append(train_loss)\n",
    "    history['train_dice'].append(train_dice)\n",
    "    history['val_loss'].append(val_loss)\n",
    "    history['val_dice'].append(val_dice)\n",
    "\n",
    "    print(f\"Train Loss: {train_loss:.4f}, Train Dice: {train_dice:.4f}\"\n",
    "          f\"\\nValid Loss: {val_loss:.4f}, Valid Dice: {val_dice:.4f}\")\n",
    "\n",
    "    is_best = val_dice > best_dice\n",
    "    if is_best:\n",
    "        best_dice = val_dice\n",
    "        # 최고 성능 모델 저장\n",
    "        torch.save(final_model.state_dict(), 'best_model_new2.pth')\n",
    "        print(f\"  >> 새로운 최고 성능 달성! (Dice: {best_dice:.4f}). 'best_model_new2.pth'에 모델을 저장합니다.\")\n",
    "\n",
    "    # --- 현재 학습 상태를 체크포인트로 저장 ---\n",
    "    # 최고 성능 여부와 관계없이 매 에포크마다 저장하여 예기치 못한 중단에 대비합니다.\n",
    "    torch.save({\n",
    "        'epoch': epoch,\n",
    "        'model_state_dict': final_model.state_dict(),\n",
    "        'optimizer_state_dict': optimizer.state_dict(),\n",
    "        'scheduler_state_dict': scheduler.state_dict(),\n",
    "        'best_dice': best_dice,\n",
    "        'history': history\n",
    "    }, CHECKPOINT_PATH)\n",
    "    print(f\"  >> Epoch {epoch}의 상태를 '{CHECKPOINT_PATH}'에 저장했습니다.\") # 저장 확인 메시지 (필요시 활성화)\n",
    "\n",
    "\n",
    "print(\"\\n--- 최종 학습 완료 ---\")\n",
    "print(f\"최고 검증 Dice: {best_dice:.4f}\")\n",
    "\n",
    "# 학습 결과 그래프 그리기\n",
    "plt.figure(figsize=(12, 5))\n",
    "\n",
    "plt.subplot(1, 2, 1)\n",
    "plt.plot(history['train_loss'], label='Train Loss')\n",
    "plt.plot(history['val_loss'], label='Validation Loss')\n",
    "plt.title('Loss over Epochs')\n",
    "plt.xlabel('Epoch')\n",
    "plt.ylabel('Loss')\n",
    "plt.legend()\n",
    "plt.grid(True)\n",
    "\n",
    "plt.subplot(1, 2, 2)\n",
    "plt.plot(history['train_dice'], label='Train Dice')\n",
    "plt.plot(history['val_dice'], label='Validation Dice')\n",
    "plt.title('Metrics over Epochs')\n",
    "plt.xlabel('Epoch')\n",
    "plt.ylabel('Metric Value')\n",
    "plt.legend()\n",
    "plt.grid(True)\n",
    "\n",
    "plt.tight_layout()\n",
    "plt.show()"
   ]
  }
 ],
 "metadata": {
  "kernelspec": {
   "display_name": "torch_lsy",
   "language": "python",
   "name": "python3"
  },
  "language_info": {
   "codemirror_mode": {
    "name": "ipython",
    "version": 3
   },
   "file_extension": ".py",
   "mimetype": "text/x-python",
   "name": "python",
   "nbconvert_exporter": "python",
   "pygments_lexer": "ipython3",
   "version": "3.10.16"
  }
 },
 "nbformat": 4,
 "nbformat_minor": 5
}
